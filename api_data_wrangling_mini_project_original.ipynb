{
 "cells": [
  {
   "cell_type": "markdown",
   "metadata": {},
   "source": [
    "This exercise will require you to pull some data from the Qunadl API. Qaundl is currently the most widely used aggregator of financial market data."
   ]
  },
  {
   "cell_type": "markdown",
   "metadata": {},
   "source": [
    "As a first step, you will need to register a free account on the http://www.quandl.com website."
   ]
  },
  {
   "cell_type": "markdown",
   "metadata": {},
   "source": [
    "After you register, you will be provided with a unique API key, that you should store:"
   ]
  },
  {
   "cell_type": "code",
   "execution_count": 3,
   "metadata": {
    "collapsed": true
   },
   "outputs": [],
   "source": [
    "# Store the API key as a string - according to PEP8, constants are always named in all upper case\n",
    "API_KEY = 'rykW1gFnbdYmUhJ-rmxQ'"
   ]
  },
  {
   "cell_type": "markdown",
   "metadata": {},
   "source": [
    "Qaundl has a large number of data sources, but, unfortunately, most of them require a Premium subscription. Still, there are also a good number of free datasets."
   ]
  },
  {
   "cell_type": "markdown",
   "metadata": {},
   "source": [
    "For this mini project, we will focus on equities data from the Frankfurt Stock Exhange (FSE), which is available for free. We'll try and analyze the stock prices of a company called Carl Zeiss Meditec, which manufactures tools for eye examinations, as well as medical lasers for laser eye surgery: https://www.zeiss.com/meditec/int/home.html. The company is listed under the stock ticker AFX_X."
   ]
  },
  {
   "cell_type": "markdown",
   "metadata": {},
   "source": [
    "You can find the detailed Quandl API instructions here: https://docs.quandl.com/docs/time-series"
   ]
  },
  {
   "cell_type": "markdown",
   "metadata": {},
   "source": [
    "While there is a dedicated Python package for connecting to the Quandl API, we would prefer that you use the *requests* package, which can be easily downloaded using *pip* or *conda*. You can find the documentation for the package here: http://docs.python-requests.org/en/master/ "
   ]
  },
  {
   "cell_type": "markdown",
   "metadata": {},
   "source": [
    "Finally, apart from the *requests* package, you are encouraged to not use any third party Python packages, such as *pandas*, and instead focus on what's available in the Python Standard Library (the *collections* module might come in handy: https://pymotw.com/3/collections/).\n",
    "Also, since you won't have access to DataFrames, you are encouraged to us Python's native data structures - preferably dictionaries, though some questions can also be answered using lists.\n",
    "You can read more on these data structures here: https://docs.python.org/3/tutorial/datastructures.html"
   ]
  },
  {
   "cell_type": "markdown",
   "metadata": {},
   "source": [
    "Keep in mind that the JSON responses you will be getting from the API map almost one-to-one to Python's dictionaries. Unfortunately, they can be very nested, so make sure you read up on indexing dictionaries in the documentation provided above."
   ]
  },
  {
   "cell_type": "code",
   "execution_count": 4,
   "metadata": {
    "collapsed": true
   },
   "outputs": [],
   "source": [
    "# First, import the relevant modules\n",
    "import requests\n",
    "import json\n"
   ]
  },
  {
   "cell_type": "code",
   "execution_count": null,
   "metadata": {
    "collapsed": true
   },
   "outputs": [],
   "source": []
  },
  {
   "cell_type": "code",
   "execution_count": 75,
   "metadata": {},
   "outputs": [],
   "source": [
    "# Now, call the Quandl API and pull out a small sample of the data (only one day) to get a glimpse\n",
    "# into the JSON structure that will be returned\n",
    "\n",
    "start_date = '2018-01-02'\n",
    "end_date = '2018-01-02'\n",
    "url = 'https://www.quandl.com/api/v3/datasets/FSE/AFX_X.json?&start_date=%s&end_date=%s' % (start_date, end_date)\n",
    "\n",
    "params = {'api_key': API_KEY}\n",
    "r = requests.get(url, params=params)\n",
    "\n",
    "\n"
   ]
  },
  {
   "cell_type": "code",
   "execution_count": 76,
   "metadata": {},
   "outputs": [
    {
     "name": "stdout",
     "output_type": "stream",
     "text": [
      "b'{\"dataset\":{\"id\":10095370,\"dataset_code\":\"AFX_X\",\"database_code\":\"FSE\",\"name\":\"Carl Zeiss Meditec (AFX_X)\",\"description\":\"Stock Prices for Carl Zeiss Meditec (2019-12-11) from the Frankfurt Stock Exchange.\\\\u003cbr\\\\u003e\\\\u003cbr\\\\u003eTrading System: Xetra\\\\u003cbr\\\\u003e\\\\u003cbr\\\\u003eISIN: DE0005313704\",\"refreshed_at\":\"2019-12-25T22:19:17.299Z\",\"newest_available_date\":\"2019-12-23\",\"oldest_available_date\":\"2000-06-07\",\"column_names\":[\"Date\",\"Open\",\"High\",\"Low\",\"Close\",\"Change\",\"Traded Volume\",\"Turnover\",\"Last Price of the Day\",\"Daily Traded Units\",\"Daily Turnover\"],\"frequency\":\"daily\",\"type\":\"Time Series\",\"premium\":false,\"limit\":null,\"transform\":null,\"column_index\":null,\"start_date\":\"2018-01-02\",\"end_date\":\"2018-01-02\",\"data\":[[\"2018-01-02\",52.05,52.4,51.2,51.4,null,54435.0,2807533.0,null,null,null]],\"collapse\":null,\"order\":null,\"database_id\":6129}}'\n"
     ]
    }
   ],
   "source": [
    "# Inspect the JSON structure of the object you created, and take note of how nested it is,\n",
    "# as well as the overall structure\n",
    "print(r.content)"
   ]
  },
  {
   "cell_type": "markdown",
   "metadata": {},
   "source": [
    "These are your tasks for this mini project:\n",
    "\n",
    "1. Collect data from the Franfurt Stock Exchange, for the ticker AFX_X, for the whole year 2017 (keep in mind that the date format is YYYY-MM-DD).\n",
    "2. Convert the returned JSON object into a Python dictionary.\n",
    "3. Calculate what the highest and lowest opening prices were for the stock in this period.\n",
    "4. What was the largest change in any one day (based on High and Low price)?\n",
    "5. What was the largest change between any two days (based on Closing Price)?\n",
    "6. What was the average daily trading volume during this year?\n",
    "7. (Optional) What was the median trading volume during this year. (Note: you may need to implement your own function for calculating the median.)"
   ]
  },
  {
   "cell_type": "code",
   "execution_count": 77,
   "metadata": {},
   "outputs": [],
   "source": [
    "# 1- Collect data from the Franfurt Stock Exchange, for the ticker AFX_X, for the whole year 2017 (keep in mind that the date format is YYYY-MM-DD).\n",
    "# Collecting for year 2018\n",
    "\n",
    "start_date = '2015-01-01'\n",
    "end_date = '2015-12-31'\n",
    "url = 'https://www.quandl.com/api/v3/datasets/FSE/AFX_X.json?&start_date=%s&end_date=%s' % (start_date, end_date)\n",
    "\n",
    "params = {'api_key': API_KEY}\n",
    "r = requests.get(url, params=params)\n",
    "\n"
   ]
  },
  {
   "cell_type": "code",
   "execution_count": 81,
   "metadata": {},
   "outputs": [
    {
     "name": "stdout",
     "output_type": "stream",
     "text": [
      "<class 'dict'>\n",
      "['Date', 'Open', 'High', 'Low', 'Close', 'Change', 'Traded Volume', 'Turnover', 'Last Price of the Day', 'Daily Traded Units', 'Daily Turnover']\n",
      "[['2015-12-31', None, 28.73, 28.275, 28.55, 0.15, 31307.0, 893928.0, None, None, None], ['2015-12-30', 28.39, 28.73, 28.28, 28.55, None, 31307.0, 893928.0, None, None, None], ['2015-12-29', 28.03, 28.67, 27.97, 28.41, None, 51198.0, 1450530.0, None, None, None], ['2015-12-28', 28.98, 28.98, 28.0, 28.06, None, 36668.0, 1036747.0, None, None, None], ['2015-12-25', None, 29.19, 28.66, 28.82, -0.12, 29246.0, 842376.0, None, None, None], ['2015-12-24', None, 29.19, 28.66, 28.82, -0.12, 29246.0, 842376.0, None, None, None], ['2015-12-23', 29.19, 29.19, 28.66, 28.82, None, 29246.0, 842376.0, None, None, None], ['2015-12-22', 28.95, 29.42, 28.77, 28.93, None, 60646.0, 1759137.0, None, None, None], ['2015-12-21', 29.4, 29.6, 28.52, 28.89, None, 72481.0, 2110926.0, None, None, None], ['2015-12-18', 27.71, 29.3, 27.44, 29.3, None, 128936.0, 3690643.0, None, None, None]]\n"
     ]
    }
   ],
   "source": [
    "# 2- Convert the returned JSON object into a Python dictionary.\n",
    "\n",
    "data_content = json.loads(r.text)\n",
    "print(type(data_content)) # see the type of this data \n",
    "\n",
    "colnames = data_content['dataset']['column_names']\n",
    "print(colnames) # print column names \n",
    "\n",
    "data = data_content['dataset']['data']\n",
    "print(data[:10]) # print last 10 data"
   ]
  },
  {
   "cell_type": "code",
   "execution_count": 82,
   "metadata": {},
   "outputs": [
    {
     "name": "stdout",
     "output_type": "stream",
     "text": [
      "The highest and lowest opening prices from 2015-01-01 to 2015-12-31 were 29.40 and 20.90 Euro\n"
     ]
    }
   ],
   "source": [
    "# 3- Calculate what the highest and lowest opening prices were for the stock in this period.\n",
    "\n",
    "all_opening_prices = []\n",
    "\n",
    "for row in data:\n",
    "    open_price_daily = row[colnames.index('Open')]\n",
    "    if open_price_daily != None : all_opening_prices.append(open_price_daily)\n",
    "        \n",
    "print('The highest and lowest opening prices from %s to %s were %.2f and %.2f Euro' % (start_date, end_date, max(all_opening_prices), min(all_opening_prices)))\n"
   ]
  },
  {
   "cell_type": "code",
   "execution_count": 84,
   "metadata": {},
   "outputs": [
    {
     "name": "stdout",
     "output_type": "stream",
     "text": [
      "The largest daily change from 2015-01-01 to 2015-12-31 were 2.31 Euro\n"
     ]
    }
   ],
   "source": [
    "# 4- What was the largest change in any one day (based on High and Low price)?\n",
    "\n",
    "daily_change = []\n",
    "\n",
    "for row in data: daily_change.append(row[colnames.index('High')]- row[colnames.index('Low')])\n",
    "print('The largest daily change from %s to %s were %.2f Euro' % (start_date, end_date, max(daily_change)))\n",
    "\n"
   ]
  },
  {
   "cell_type": "code",
   "execution_count": 85,
   "metadata": {},
   "outputs": [
    {
     "name": "stdout",
     "output_type": "stream",
     "text": [
      "The largest change in closing price from 2015-01-01 to 2015-12-31 were 8.16 Euro\n"
     ]
    }
   ],
   "source": [
    "# 5- What was the largest change between any two days (based on Closing Price)?\n",
    "\n",
    "closing_price = []\n",
    "\n",
    "for row in data:\n",
    "    closing_price.append(row[colnames.index('Close')])\n",
    "    \n",
    "change = []\n",
    "\n",
    "for i in range(len(closing_price)):\n",
    "    for j in range(i, len(closing_price)):\n",
    "        change.append(abs(closing_price[i]- closing_price[j]))\n",
    "\n",
    "print('The largest change in closing price from %s to %s were %.2f Euro' % (start_date, end_date, max(change)))\n",
    "\n",
    "\n"
   ]
  },
  {
   "cell_type": "code",
   "execution_count": 86,
   "metadata": {},
   "outputs": [
    {
     "name": "stdout",
     "output_type": "stream",
     "text": [
      "The average trading volume from 2015-01-01 to 2015-12-31 were 54515.19 stocks\n"
     ]
    }
   ],
   "source": [
    "# 6- What was the average daily trading volume during this year?\n",
    "\n",
    "volume = []\n",
    "for row in data:volume.append(row[colnames.index('Traded Volume')])\n",
    "print('The average trading volume from %s to %s were %.2f stocks' % (start_date, end_date, sum(volume)/len(volume)))\n",
    "\n"
   ]
  },
  {
   "cell_type": "code",
   "execution_count": 87,
   "metadata": {},
   "outputs": [
    {
     "name": "stdout",
     "output_type": "stream",
     "text": [
      "The median trading volume from 2015-01-01 to 2015-12-31 were 48756.50 stocks\n"
     ]
    }
   ],
   "source": [
    "# 7 - (Optional) What was the median trading volume during this year. (Note: you may need to implement your own function for calculating the median.\n",
    "\n",
    "def get_median(input_data): # func to get the median\n",
    "    mid_index = int(len(input_data)/2)  # convert into int\n",
    "    sorted_data = sorted(input_data)\n",
    "    \n",
    "    if len(input_data) % 2 == 1: # if it is odd\n",
    "        median = sorted_data[mid_index]\n",
    "        \n",
    "    else: # even case\n",
    "        median = (sorted_data[mid_index] + sorted_data[mid_index +1])/2\n",
    "    return median\n",
    "\n",
    "print('The median trading volume from %s to %s were %.2f stocks' % (start_date, end_date, get_median(volume)))\n",
    "        \n",
    "        \n"
   ]
  },
  {
   "cell_type": "code",
   "execution_count": null,
   "metadata": {
    "collapsed": true
   },
   "outputs": [],
   "source": []
  }
 ],
 "metadata": {
  "kernelspec": {
   "display_name": "Python 3",
   "language": "python",
   "name": "python3"
  },
  "language_info": {
   "codemirror_mode": {
    "name": "ipython",
    "version": 3
   },
   "file_extension": ".py",
   "mimetype": "text/x-python",
   "name": "python",
   "nbconvert_exporter": "python",
   "pygments_lexer": "ipython3",
   "version": "3.6.2"
  }
 },
 "nbformat": 4,
 "nbformat_minor": 2
}
